{
 "cells": [
  {
   "cell_type": "code",
   "execution_count": 6,
   "metadata": {},
   "outputs": [
    {
     "name": "stderr",
     "output_type": "stream",
     "text": [
      "Using TensorFlow backend.\n"
     ]
    }
   ],
   "source": [
    "import tensorflow as tf\n",
    "# things we need for NLP\n",
    "import nltk\n",
    "from nltk.stem.lancaster import LancasterStemmer\n",
    "stemmer = LancasterStemmer()\n",
    "\n",
    "# things we need for Tensorflow\n",
    "import numpy as np\n",
    "from keras.models import Sequential\n",
    "from keras.layers import Dense, Activation, Dropout\n",
    "from keras.optimizers import SGD\n",
    "import pandas as pd\n",
    "import pickle\n",
    "import random"
   ]
  },
  {
   "cell_type": "code",
   "execution_count": 7,
   "metadata": {},
   "outputs": [],
   "source": [
    "import json\n",
    "with open('intents edited.json') as file:\n",
    "    intents = json.load(file)"
   ]
  },
  {
   "cell_type": "code",
   "execution_count": 8,
   "metadata": {},
   "outputs": [],
   "source": [
    "data = pickle.load( open( \"HC-assistant-data.pkl\", \"rb\" ) )\n",
    "words = data['words']\n",
    "classes = data['classes']"
   ]
  },
  {
   "cell_type": "code",
   "execution_count": 9,
   "metadata": {},
   "outputs": [],
   "source": [
    "with open(f'HC-assistant-model.pkl', 'rb') as f:\n",
    "    model = pickle.load(f)"
   ]
  },
  {
   "cell_type": "code",
   "execution_count": 10,
   "metadata": {},
   "outputs": [],
   "source": [
    "def clean_up_sentence(sentence):\n",
    "    # tokenize the pattern - split words into array\n",
    "    sentence_words = nltk.word_tokenize(sentence)\n",
    "    # stem each word - create short form for word\n",
    "    sentence_words = [stemmer.stem(word.lower()) for word in sentence_words]\n",
    "    return sentence_words\n",
    "\n",
    "# return bag of words array: 0 or 1 for each word in the bag that exists in the sentence\n",
    "def bow(sentence, words):\n",
    "    # tokenize the pattern\n",
    "    sentence_words = clean_up_sentence(sentence)\n",
    "    # bag of words - matrix of N words, vocabulary matrix\n",
    "    bag = [0]*len(words)  \n",
    "    for s in sentence_words:\n",
    "        for i,w in enumerate(words):\n",
    "            if w == s: \n",
    "                # assign 1 if current word is in the vocabulary position\n",
    "                bag[i] = 1\n",
    "                \n",
    "\n",
    "    return(np.array(bag))"
   ]
  },
  {
   "cell_type": "code",
   "execution_count": 7,
   "metadata": {},
   "outputs": [
    {
     "name": "stdout",
     "output_type": "stream",
     "text": [
      "Chat with HEIGHTS COMMUNICATIONS bot assistant! (type quit to exit)\n",
      "\n",
      "\n",
      "You: Hi\n",
      "Assistant: Hello!\n",
      "You: Can you tell me about your business?\n",
      "Assistant: We, Heights Communication is a BTL agency based in Pakistan and UAE. We do indoor and outdoor advertising campaigns, marketing campaigns and branding campaign for our clients. For more information about our work, you can call us at +923232779999\n",
      "You: That's nice. What are your recent projects?\n",
      "Assistant: To see our recent project, please click on  ' our projects' tab. For more information about our past projects call us at +923232779999\n",
      "You: Alright.Can you tell me about your services? \n",
      "Assistant: We provide variety of services including corporate launch, activities, outdoor promotions, digital branding, product display, digital printing, hoarding advertising and much more. For more information call us at +923232779999\n",
      "You: Interesting. What are your prices?\n",
      "Assistant: For rates and pricing of a particular service, call us now at +923232779999 and get the quotaion right away.\n",
      "You: Okay. Where is your office located?\n",
      "Assistant: We are located in Dha Phase 2 Ext, 12th Commercial, Plot 63-C, near Meezan Bank.\n",
      "You: ok thanks. Bye\n",
      "Assistant: My pleasure, Thank you for reaching to us\n",
      "You: quit\n"
     ]
    }
   ],
   "source": [
    "def chat():\n",
    "    print(\"Chat with HEIGHTS COMMUNICATIONS bot assistant! (type quit to exit)\\n\\n\")\n",
    "    while True:\n",
    "        inp = input(\"You: \")\n",
    "        if inp.lower() == \"quit\":\n",
    "            break\n",
    "                \n",
    "        input_data = pd.DataFrame([bow(inp, words)], dtype=float, index=['input'])\n",
    "        results = model.predict([input_data])[0]\n",
    "        results_index = np.argmax(results)\n",
    "        tag = classes[results_index]\n",
    "        \n",
    "        if results[results_index] > 0.7:\n",
    "            for tg in intents[\"intents\"]:\n",
    "                if tg['tag'] == tag:\n",
    "                    responses = tg[\"responses\"]\n",
    "            print(\"Assistant:\", random.choice(responses))\n",
    "        else:\n",
    "            print(\"Assistant:\",\"I am sorry. I am not aware of what you are asking. Please call us at +923232779999\")\n",
    "chat()"
   ]
  }
 ],
 "metadata": {
  "kernelspec": {
   "display_name": "Python 3",
   "language": "python",
   "name": "python3"
  },
  "language_info": {
   "codemirror_mode": {
    "name": "ipython",
    "version": 3
   },
   "file_extension": ".py",
   "mimetype": "text/x-python",
   "name": "python",
   "nbconvert_exporter": "python",
   "pygments_lexer": "ipython3",
   "version": "3.7.7"
  }
 },
 "nbformat": 4,
 "nbformat_minor": 4
}
